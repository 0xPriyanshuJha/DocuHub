{
 "cells": [
  {
   "cell_type": "markdown",
   "metadata": {},
   "source": [
    "## Importing Necessary libraries"
   ]
  },
  {
   "cell_type": "code",
   "execution_count": 1,
   "metadata": {},
   "outputs": [],
   "source": [
    "import os\n",
    "import tempfile\n",
    "import streamlit as st\n",
    "from langchain.chains import RetrievalQA\n",
    "from langchain_community.embeddings import OllamaEmbeddings\n",
    "from langchain_community.vectorstores import Chroma\n",
    "from langchain_community.llms import Ollama\n",
    "from PyPDF2 import PdfReader\n",
    "from langchain.schema import Document"
   ]
  },
  {
   "cell_type": "code",
   "execution_count": 5,
   "metadata": {},
   "outputs": [],
   "source": [
    "# Defining the create_retrieval_qa function\n",
    "def create_retrieval_qa(vectordb):\n",
    "    # Initializing Ollama language model\n",
    "    llm = Ollama(base_url='http://localhost:11434')\n",
    "\n",
    "    # Creating the QA chain with the vector store and LLM\n",
    "    qa_chain = RetrievalQA.from_chain_type(\n",
    "        llm=llm,\n",
    "        chain_type=\"stuff\",\n",
    "        retriever=vectordb.as_retriever(),\n",
    "        return_source_documents=True\n",
    "    )\n",
    "    return qa_chain"
   ]
  },
  {
   "cell_type": "code",
   "execution_count": 6,
   "metadata": {},
   "outputs": [
    {
     "name": "stderr",
     "output_type": "stream",
     "text": [
      "2024-09-13 19:47:20.216 Thread 'MainThread': missing ScriptRunContext! This warning can be ignored when running in bare mode.\n",
      "2024-09-13 19:47:20.217 Thread 'MainThread': missing ScriptRunContext! This warning can be ignored when running in bare mode.\n",
      "2024-09-13 19:47:20.217 Thread 'MainThread': missing ScriptRunContext! This warning can be ignored when running in bare mode.\n",
      "2024-09-13 19:47:20.218 Thread 'MainThread': missing ScriptRunContext! This warning can be ignored when running in bare mode.\n",
      "2024-09-13 19:47:20.218 Thread 'MainThread': missing ScriptRunContext! This warning can be ignored when running in bare mode.\n",
      "2024-09-13 19:47:20.219 Thread 'MainThread': missing ScriptRunContext! This warning can be ignored when running in bare mode.\n",
      "2024-09-13 19:47:20.219 Thread 'MainThread': missing ScriptRunContext! This warning can be ignored when running in bare mode.\n",
      "2024-09-13 19:47:20.219 Thread 'MainThread': missing ScriptRunContext! This warning can be ignored when running in bare mode.\n"
     ]
    }
   ],
   "source": [
    "# For frontend\n",
    "st.title(\"Chat with PDF\")\n",
    "st.caption(\"This app allows you to chat with a PDF using Ollama models and Chroma for vector storage!\")\n",
    "\n",
    "# Initialize embeddings\n",
    "embeddings = OllamaEmbeddings(base_url='http://localhost:11434')\n",
    "\n",
    "# Create a temporary directory to store the PDF file\n",
    "db_path = tempfile.mkdtemp()\n",
    "\n",
    "# Upload a PDF file\n",
    "pdf_file = st.file_uploader(\"Upload a PDF file\", type=\"pdf\")"
   ]
  },
  {
   "cell_type": "code",
   "execution_count": 43,
   "metadata": {},
   "outputs": [
    {
     "name": "stderr",
     "output_type": "stream",
     "text": [
      "2024-09-13 19:34:24.373 Thread 'MainThread': missing ScriptRunContext! This warning can be ignored when running in bare mode.\n",
      "2024-09-13 19:34:24.374 Thread 'MainThread': missing ScriptRunContext! This warning can be ignored when running in bare mode.\n",
      "2024-09-13 19:34:24.376 Thread 'MainThread': missing ScriptRunContext! This warning can be ignored when running in bare mode.\n",
      "2024-09-13 19:34:24.376 Thread 'MainThread': missing ScriptRunContext! This warning can be ignored when running in bare mode.\n",
      "2024-09-13 19:34:24.377 Thread 'MainThread': missing ScriptRunContext! This warning can be ignored when running in bare mode.\n",
      "2024-09-13 19:34:24.378 Thread 'MainThread': missing ScriptRunContext! This warning can be ignored when running in bare mode.\n",
      "2024-09-13 19:34:24.379 Thread 'MainThread': missing ScriptRunContext! This warning can be ignored when running in bare mode.\n",
      "2024-09-13 19:34:24.379 Thread 'MainThread': missing ScriptRunContext! This warning can be ignored when running in bare mode.\n"
     ]
    }
   ],
   "source": [
    "\n",
    "st.title(\"Chat with PDF\")\n",
    "st.caption(\"This app allows you to chat with a PDF using Ollama models and Chroma for vector storage!\")\n",
    "\n",
    "# Initialize embeddings\n",
    "embeddings = OllamaEmbeddings(base_url='http://localhost:11434')\n",
    "\n",
    "# Create a temporary directory to store the PDF file\n",
    "db_path = tempfile.mkdtemp()\n",
    "\n",
    "# Upload a PDF file\n",
    "pdf_file = st.file_uploader(\"Upload a PDF file\", type=\"pdf\")\n"
   ]
  },
  {
   "cell_type": "code",
   "execution_count": 7,
   "metadata": {},
   "outputs": [],
   "source": [
    "# Initialize Chroma vector store and QA chain\n",
    "vectordb = None\n",
    "qa_chain = None\n",
    "\n",
    "# If a PDF file is uploaded, process it and add it to the knowledge base\n",
    "if pdf_file:\n",
    "    with tempfile.NamedTemporaryFile(delete=False, suffix=\".pdf\") as f:\n",
    "        f.write(pdf_file.getvalue())\n",
    "        f.close()\n",
    "        \n",
    "        # Process the PDF and get a list of Document objects\n",
    "        documents = process_pdf(f.name)\n",
    "        \n",
    "        # Create the Chroma vector store with processed documents\n",
    "        vectordb = Chroma.from_documents(documents, embeddings, persist_directory=db_path)\n",
    "        \n",
    "        # Create the QA chain with the vector store\n",
    "        qa_chain = create_retrieval_qa(vectordb)\n",
    "        \n",
    "    st.success(f\"Added {pdf_file.name} to knowledge base!\")"
   ]
  },
  {
   "cell_type": "code",
   "execution_count": 8,
   "metadata": {},
   "outputs": [
    {
     "name": "stderr",
     "output_type": "stream",
     "text": [
      "2024-09-13 19:47:58.349 Thread 'MainThread': missing ScriptRunContext! This warning can be ignored when running in bare mode.\n",
      "2024-09-13 19:47:58.350 Thread 'MainThread': missing ScriptRunContext! This warning can be ignored when running in bare mode.\n",
      "2024-09-13 19:47:58.351 Thread 'MainThread': missing ScriptRunContext! This warning can be ignored when running in bare mode.\n",
      "2024-09-13 19:47:58.352 Session state does not function when running a script without `streamlit run`\n",
      "2024-09-13 19:47:58.352 Thread 'MainThread': missing ScriptRunContext! This warning can be ignored when running in bare mode.\n",
      "2024-09-13 19:47:58.353 Thread 'MainThread': missing ScriptRunContext! This warning can be ignored when running in bare mode.\n"
     ]
    }
   ],
   "source": [
    "# Ask a question about the PDF\n",
    "prompt = st.text_input(\"Ask a question about the PDF\")\n",
    "\n",
    "# Display the answer\n",
    "if prompt and qa_chain:\n",
    "    result = qa_chain.invoke({\"query\": prompt})\n",
    "    answer = result.get('result')\n",
    "    st.write(answer)\n"
   ]
  },
  {
   "cell_type": "code",
   "execution_count": null,
   "metadata": {},
   "outputs": [],
   "source": []
  }
 ],
 "metadata": {
  "kernelspec": {
   "display_name": "Python 3",
   "language": "python",
   "name": "python3"
  },
  "language_info": {
   "codemirror_mode": {
    "name": "ipython",
    "version": 3
   },
   "file_extension": ".py",
   "mimetype": "text/x-python",
   "name": "python",
   "nbconvert_exporter": "python",
   "pygments_lexer": "ipython3",
   "version": "3.11.7"
  }
 },
 "nbformat": 4,
 "nbformat_minor": 2
}
